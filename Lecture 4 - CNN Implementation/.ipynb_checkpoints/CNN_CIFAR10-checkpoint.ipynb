{
 "cells": [
  {
   "cell_type": "markdown",
   "metadata": {},
   "source": [
    "__author__ = \"Param Popat\"\n",
    "__version__ = \"1\"\n",
    "__git__ = \"https://github.com/parampopat/\""
   ]
  },
  {
   "cell_type": "markdown",
   "metadata": {},
   "source": [
    "# CNN for CIFAR-10 Dataset"
   ]
  },
  {
   "cell_type": "code",
   "execution_count": 2,
   "metadata": {},
   "outputs": [
    {
     "name": "stderr",
     "output_type": "stream",
     "text": [
      "Using TensorFlow backend.\n"
     ]
    }
   ],
   "source": [
    "import keras\n",
    "from keras.datasets import cifar10\n",
    "from keras.models import Sequential\n",
    "from keras.layers import Dense, Dropout, Flatten\n",
    "from keras.layers import Conv2D, MaxPooling2D\n",
    "from keras import backend as K"
   ]
  },
  {
   "cell_type": "code",
   "execution_count": 3,
   "metadata": {},
   "outputs": [],
   "source": [
    "def get_model(input_shape):\n",
    "    \"\"\"\n",
    "    Trains and returns the model\n",
    "    :return: Trained Model\n",
    "    \"\"\"\n",
    "    model = Sequential()\n",
    "    model.add(Conv2D(96, kernel_size=(3, 3), activation='relu', input_shape=input_shape, name='conv_1'))\n",
    "    model.add(Dropout(0.2))\n",
    "    model.add(Conv2D(96, (3, 3), activation='relu', name='conv_2'))\n",
    "    model.add(Conv2D(96, (3, 3), activation='relu', name='conv_3'))\n",
    "    model.add(MaxPooling2D(pool_size=(2, 2), name='pool_1'))\n",
    "    model.add(Dropout(0.5))\n",
    "    model.add(Flatten())\n",
    "    model.add(Dense(128, activation='relu', name='dense_1'))\n",
    "    model.add(Dense(10, activation='softmax', name='out'))\n",
    "    return model"
   ]
  },
  {
   "cell_type": "code",
   "execution_count": 4,
   "metadata": {},
   "outputs": [],
   "source": [
    "def get_data():\n",
    "    \"\"\"\n",
    "    Loads data\n",
    "    :return:\n",
    "    \"\"\"\n",
    "    img_rows, img_cols = 32, 32\n",
    "    (x_train, y_train), (x_test, y_test) = cifar10.load_data()\n",
    "\n",
    "    if K.image_data_format() == 'channels_first':\n",
    "        x_train = x_train.reshape(x_train.shape[0], 3, img_rows, img_cols)\n",
    "        x_test = x_test.reshape(x_test.shape[0], 3, img_rows, img_cols)\n",
    "        input_shape = (3, img_rows, img_cols)\n",
    "    else:\n",
    "        x_train = x_train.reshape(x_train.shape[0], img_rows, img_cols, 3)\n",
    "        x_test = x_test.reshape(x_test.shape[0], img_rows, img_cols, 3)\n",
    "        input_shape = (img_rows, img_cols, 3)\n",
    "\n",
    "    x_train = x_train.astype('float32')\n",
    "    x_test = x_test.astype('float32')\n",
    "    x_train /= 255\n",
    "    x_test /= 255\n",
    "    y_train = keras.utils.to_categorical(y_train, 10)\n",
    "    y_test = keras.utils.to_categorical(y_test, 10)\n",
    "    print('x_train shape:', x_train.shape)\n",
    "    print(x_train.shape[0], 'train samples')\n",
    "    print(x_test.shape[0], 'test samples')\n",
    "    return x_train, x_test, y_train, y_test, input_shape"
   ]
  },
  {
   "cell_type": "code",
   "execution_count": 5,
   "metadata": {},
   "outputs": [],
   "source": [
    "def train(epochs, batch_size):\n",
    "    \"\"\"\n",
    "    Trains and saves the model\n",
    "    :return:\n",
    "    \"\"\"\n",
    "    x_train, x_test, y_train, y_test, input_shape = get_data()\n",
    "\n",
    "    model = get_model(input_shape)\n",
    "    model.compile(loss=keras.losses.categorical_crossentropy, optimizer=keras.optimizers.Adadelta(),\n",
    "                  metrics=['accuracy'])\n",
    "    model.fit(x_train, y_train, batch_size=batch_size, epochs=epochs, verbose=2, validation_data=(x_test, y_test))"
   ]
  },
  {
   "cell_type": "code",
   "execution_count": 6,
   "metadata": {},
   "outputs": [
    {
     "name": "stdout",
     "output_type": "stream",
     "text": [
      "x_train shape: (50000, 32, 32, 3)\n",
      "50000 train samples\n",
      "10000 test samples\n",
      "Train on 50000 samples, validate on 10000 samples\n",
      "Epoch 1/10\n",
      " - 54s - loss: 1.8298 - acc: 0.3443 - val_loss: 1.5274 - val_acc: 0.4534\n",
      "Epoch 2/10\n",
      " - 40s - loss: 1.3456 - acc: 0.5206 - val_loss: 1.3356 - val_acc: 0.5312\n",
      "Epoch 3/10\n",
      " - 40s - loss: 1.1183 - acc: 0.6044 - val_loss: 1.0402 - val_acc: 0.6289\n",
      "Epoch 4/10\n",
      " - 40s - loss: 0.9516 - acc: 0.6652 - val_loss: 0.9947 - val_acc: 0.6519\n",
      "Epoch 5/10\n",
      " - 43s - loss: 0.8263 - acc: 0.7116 - val_loss: 0.9031 - val_acc: 0.6877\n",
      "Epoch 6/10\n",
      " - 40s - loss: 0.7190 - acc: 0.7498 - val_loss: 0.8567 - val_acc: 0.7081\n",
      "Epoch 7/10\n",
      " - 40s - loss: 0.6294 - acc: 0.7797 - val_loss: 0.8761 - val_acc: 0.7044\n",
      "Epoch 8/10\n",
      " - 40s - loss: 0.5453 - acc: 0.8113 - val_loss: 0.8624 - val_acc: 0.7223\n",
      "Epoch 9/10\n",
      " - 40s - loss: 0.4688 - acc: 0.8369 - val_loss: 0.9288 - val_acc: 0.7145\n",
      "Epoch 10/10\n",
      " - 42s - loss: 0.4067 - acc: 0.8568 - val_loss: 0.9998 - val_acc: 0.6965\n"
     ]
    }
   ],
   "source": [
    "train(epochs=10, batch_size=128)"
   ]
  },
  {
   "cell_type": "code",
   "execution_count": null,
   "metadata": {},
   "outputs": [],
   "source": []
  }
 ],
 "metadata": {
  "kernelspec": {
   "display_name": "Python 3",
   "language": "python",
   "name": "python3"
  },
  "language_info": {
   "codemirror_mode": {
    "name": "ipython",
    "version": 3
   },
   "file_extension": ".py",
   "mimetype": "text/x-python",
   "name": "python",
   "nbconvert_exporter": "python",
   "pygments_lexer": "ipython3",
   "version": "3.5.2"
  }
 },
 "nbformat": 4,
 "nbformat_minor": 2
}
