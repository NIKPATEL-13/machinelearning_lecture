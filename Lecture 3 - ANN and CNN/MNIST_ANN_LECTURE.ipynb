{
 "cells": [
  {
   "cell_type": "markdown",
   "metadata": {},
   "source": [
    "# MNIST with ANN"
   ]
  },
  {
   "cell_type": "code",
   "execution_count": 9,
   "metadata": {},
   "outputs": [
    {
     "data": {
      "text/plain": [
       "'\\n__author__ = \"Param Popat\"\\n__version__ = \"1\"\\n__git__ = \"https://github.com/parampopat/\"\\n'"
      ]
     },
     "execution_count": 9,
     "metadata": {},
     "output_type": "execute_result"
    }
   ],
   "source": [
    "\"\"\"\n",
    "__author__ = \"Param Popat\"\n",
    "__version__ = \"1\"\n",
    "__git__ = \"https://github.com/parampopat/\"\n",
    "\"\"\""
   ]
  },
  {
   "cell_type": "code",
   "execution_count": 10,
   "metadata": {},
   "outputs": [],
   "source": [
    "from keras.models import Sequential\n",
    "from keras.layers import Dense\n",
    "from keras.datasets import mnist\n",
    "from keras.utils import *"
   ]
  },
  {
   "cell_type": "markdown",
   "metadata": {},
   "source": [
    "Function to get the model"
   ]
  },
  {
   "cell_type": "code",
   "execution_count": 12,
   "metadata": {},
   "outputs": [],
   "source": [
    "def get_model(input_shape):\n",
    "    \"\"\"\n",
    "    Returns Model Skeleton\n",
    "    :return: Model\n",
    "    \"\"\"\n",
    "    neuralnet = Sequential()\n",
    "    neuralnet.add(Dense(512, input_shape=input_shape, activation='relu'))\n",
    "    neuralnet.add(Dense(512, activation='relu'))\n",
    "    neuralnet.add(Dense(10, activation='softmax'))\n",
    "    return neuralnet"
   ]
  },
  {
   "cell_type": "markdown",
   "metadata": {},
   "source": [
    "Function to preprocess Data"
   ]
  },
  {
   "cell_type": "code",
   "execution_count": 13,
   "metadata": {},
   "outputs": [],
   "source": [
    "def preprocess(data):\n",
    "    \"\"\"\n",
    "    Loads and pre-processes the data.\n",
    "    :param data: Dataset to be loaded\n",
    "    :return: (x_train, y_train), (x_test, y_test)\n",
    "    \"\"\"\n",
    "    (xtrain, ytrain), (xtest, ytest) = data.load_data()\n",
    "    xtrain = xtrain.reshape(60000, 784)\n",
    "    xtest = xtest.reshape(10000, 784)\n",
    "    xtrain = xtrain.astype('float32')\n",
    "    xtest = xtest.astype('float32')\n",
    "    xtrain /= 255\n",
    "    xtest /= 255\n",
    "    digits = 10\n",
    "    ytrain = to_categorical(ytrain, digits)\n",
    "    ytest = to_categorical(ytest, digits)\n",
    "    return (xtrain, ytrain), (xtest, ytest)"
   ]
  },
  {
   "cell_type": "markdown",
   "metadata": {},
   "source": [
    "Let's Train now"
   ]
  },
  {
   "cell_type": "code",
   "execution_count": 14,
   "metadata": {},
   "outputs": [
    {
     "name": "stdout",
     "output_type": "stream",
     "text": [
      "#### Training ####\n",
      "\n",
      "Train on 60000 samples, validate on 10000 samples\n",
      "Epoch 1/10\n",
      " - 3s - loss: 0.2721 - acc: 0.9158 - val_loss: 0.1180 - val_acc: 0.9618\n",
      "Epoch 2/10\n",
      " - 2s - loss: 0.0918 - acc: 0.9719 - val_loss: 0.0815 - val_acc: 0.9743\n",
      "Epoch 3/10\n",
      " - 2s - loss: 0.0583 - acc: 0.9822 - val_loss: 0.0643 - val_acc: 0.9804\n",
      "Epoch 4/10\n",
      " - 2s - loss: 0.0406 - acc: 0.9871 - val_loss: 0.0654 - val_acc: 0.9792\n",
      "Epoch 5/10\n",
      " - 2s - loss: 0.0284 - acc: 0.9910 - val_loss: 0.0715 - val_acc: 0.9805\n",
      "Epoch 6/10\n",
      " - 2s - loss: 0.0221 - acc: 0.9930 - val_loss: 0.0751 - val_acc: 0.9789\n",
      "Epoch 7/10\n",
      " - 2s - loss: 0.0165 - acc: 0.9944 - val_loss: 0.0898 - val_acc: 0.9775\n",
      "Epoch 8/10\n",
      " - 2s - loss: 0.0134 - acc: 0.9957 - val_loss: 0.0754 - val_acc: 0.9831\n",
      "Epoch 9/10\n",
      " - 2s - loss: 0.0102 - acc: 0.9967 - val_loss: 0.0809 - val_acc: 0.9832\n",
      "Epoch 10/10\n",
      " - 2s - loss: 0.0096 - acc: 0.9971 - val_loss: 0.0878 - val_acc: 0.9821\n",
      "#### Let's Test on 1 sample ####\n",
      "\n",
      "\n",
      "#### Actual Vector ####\n",
      "[0. 0. 0. 0. 0. 0. 0. 1. 0. 0.]\n",
      "\n",
      "#### Predicted Vector ####\n",
      "[[2.8534756e-16 5.3532553e-13 5.8373896e-12 2.0793896e-12 1.7580942e-18\n",
      "  6.5518051e-17 2.7455550e-22 1.0000000e+00 3.4775577e-15 1.0317170e-09]]\n",
      "Test Acc: 0.9821\n"
     ]
    }
   ],
   "source": [
    "(x_train, y_train), (x_test, y_test) = preprocess(mnist)\n",
    "model = get_model((x_train.shape[1],))\n",
    "print(\"#### Training ####\\n\")\n",
    "model.compile(loss='categorical_crossentropy', optimizer='RMSprop', metrics=['accuracy'])\n",
    "model.fit(x_train, y_train, validation_data=(x_test, y_test), epochs=10, batch_size=250, verbose=2)\n",
    "print(\"#### Let's Test on 1 sample ####\\n\")\n",
    "print(\"\\n#### Actual Vector ####\\n\" + str(y_test[0]))\n",
    "y_test_pred = model.predict(x_test[0:1])\n",
    "print(\"\\n#### Predicted Vector ####\\n\" + str(y_test_pred))\n",
    "acc = model.evaluate(x_test, y_test, verbose=0)\n",
    "print('Test Acc:', acc[1])"
   ]
  }
 ],
 "metadata": {
  "kernelspec": {
   "display_name": "Python 3",
   "language": "python",
   "name": "python3"
  },
  "language_info": {
   "codemirror_mode": {
    "name": "ipython",
    "version": 3
   },
   "file_extension": ".py",
   "mimetype": "text/x-python",
   "name": "python",
   "nbconvert_exporter": "python",
   "pygments_lexer": "ipython3",
   "version": "3.5.2"
  }
 },
 "nbformat": 4,
 "nbformat_minor": 2
}
